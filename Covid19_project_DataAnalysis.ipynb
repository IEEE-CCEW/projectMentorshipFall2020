{
 "cells": [
  {
   "cell_type": "code",
   "execution_count": 2,
   "metadata": {},
   "outputs": [],
   "source": [
    "##Data Cleaning and analysis"
   ]
  },
  {
   "cell_type": "code",
   "execution_count": 3,
   "metadata": {},
   "outputs": [],
   "source": [
    "import pandas as pd \n",
    "import numpy as np\n",
    "import matplotlib.pyplot as plt"
   ]
  },
  {
   "cell_type": "code",
   "execution_count": 4,
   "metadata": {},
   "outputs": [
    {
     "name": "stderr",
     "output_type": "stream",
     "text": [
      "D:\\Anaconda\\lib\\site-packages\\IPython\\core\\interactiveshell.py:3071: DtypeWarning: Columns (3) have mixed types.Specify dtype option on import or set low_memory=False.\n",
      "  has_raised = await self.run_ast_nodes(code_ast.body, cell_name,\n"
     ]
    },
    {
     "data": {
      "text/html": [
       "<div>\n",
       "<style scoped>\n",
       "    .dataframe tbody tr th:only-of-type {\n",
       "        vertical-align: middle;\n",
       "    }\n",
       "\n",
       "    .dataframe tbody tr th {\n",
       "        vertical-align: top;\n",
       "    }\n",
       "\n",
       "    .dataframe thead th {\n",
       "        text-align: right;\n",
       "    }\n",
       "</style>\n",
       "<table border=\"1\" class=\"dataframe\">\n",
       "  <thead>\n",
       "    <tr style=\"text-align: right;\">\n",
       "      <th></th>\n",
       "      <th>Unnamed: 0</th>\n",
       "      <th>Num Cases</th>\n",
       "      <th>Date Announced</th>\n",
       "      <th>Age Bracket</th>\n",
       "      <th>Gender</th>\n",
       "      <th>Detected City</th>\n",
       "      <th>Detected District</th>\n",
       "      <th>Detected State</th>\n",
       "      <th>Current Status</th>\n",
       "      <th>Day</th>\n",
       "      <th>Month</th>\n",
       "      <th>Year</th>\n",
       "    </tr>\n",
       "  </thead>\n",
       "  <tbody>\n",
       "    <tr>\n",
       "      <th>0</th>\n",
       "      <td>0</td>\n",
       "      <td>1.0</td>\n",
       "      <td>30/01/2020</td>\n",
       "      <td>20</td>\n",
       "      <td>F</td>\n",
       "      <td>Thrissur</td>\n",
       "      <td>Thrissur</td>\n",
       "      <td>Kerala</td>\n",
       "      <td>Recovered</td>\n",
       "      <td>30</td>\n",
       "      <td>1</td>\n",
       "      <td>2020</td>\n",
       "    </tr>\n",
       "    <tr>\n",
       "      <th>1</th>\n",
       "      <td>1</td>\n",
       "      <td>1.0</td>\n",
       "      <td>02/02/2020</td>\n",
       "      <td>NaN</td>\n",
       "      <td>NaN</td>\n",
       "      <td>Alappuzha</td>\n",
       "      <td>Alappuzha</td>\n",
       "      <td>Kerala</td>\n",
       "      <td>Recovered</td>\n",
       "      <td>2</td>\n",
       "      <td>2</td>\n",
       "      <td>2020</td>\n",
       "    </tr>\n",
       "    <tr>\n",
       "      <th>2</th>\n",
       "      <td>2</td>\n",
       "      <td>1.0</td>\n",
       "      <td>03/02/2020</td>\n",
       "      <td>NaN</td>\n",
       "      <td>NaN</td>\n",
       "      <td>Kasaragod</td>\n",
       "      <td>Kasaragod</td>\n",
       "      <td>Kerala</td>\n",
       "      <td>Recovered</td>\n",
       "      <td>3</td>\n",
       "      <td>2</td>\n",
       "      <td>2020</td>\n",
       "    </tr>\n",
       "    <tr>\n",
       "      <th>3</th>\n",
       "      <td>3</td>\n",
       "      <td>1.0</td>\n",
       "      <td>02/03/2020</td>\n",
       "      <td>45</td>\n",
       "      <td>M</td>\n",
       "      <td>East Delhi (Mayur Vihar)</td>\n",
       "      <td>East Delhi</td>\n",
       "      <td>Delhi</td>\n",
       "      <td>Recovered</td>\n",
       "      <td>2</td>\n",
       "      <td>3</td>\n",
       "      <td>2020</td>\n",
       "    </tr>\n",
       "    <tr>\n",
       "      <th>4</th>\n",
       "      <td>4</td>\n",
       "      <td>1.0</td>\n",
       "      <td>02/03/2020</td>\n",
       "      <td>24</td>\n",
       "      <td>M</td>\n",
       "      <td>Hyderabad</td>\n",
       "      <td>Hyderabad</td>\n",
       "      <td>Telangana</td>\n",
       "      <td>Recovered</td>\n",
       "      <td>2</td>\n",
       "      <td>3</td>\n",
       "      <td>2020</td>\n",
       "    </tr>\n",
       "    <tr>\n",
       "      <th>...</th>\n",
       "      <td>...</td>\n",
       "      <td>...</td>\n",
       "      <td>...</td>\n",
       "      <td>...</td>\n",
       "      <td>...</td>\n",
       "      <td>...</td>\n",
       "      <td>...</td>\n",
       "      <td>...</td>\n",
       "      <td>...</td>\n",
       "      <td>...</td>\n",
       "      <td>...</td>\n",
       "      <td>...</td>\n",
       "    </tr>\n",
       "    <tr>\n",
       "      <th>145844</th>\n",
       "      <td>22790</td>\n",
       "      <td>2.0</td>\n",
       "      <td>07/07/2020</td>\n",
       "      <td>NaN</td>\n",
       "      <td>NaN</td>\n",
       "      <td>NaN</td>\n",
       "      <td>Dadra and Nagar Haveli</td>\n",
       "      <td>Dadra and Nagar Haveli and Daman and Diu</td>\n",
       "      <td>Hospitalized</td>\n",
       "      <td>7</td>\n",
       "      <td>7</td>\n",
       "      <td>2020</td>\n",
       "    </tr>\n",
       "    <tr>\n",
       "      <th>145845</th>\n",
       "      <td>22791</td>\n",
       "      <td>-9.0</td>\n",
       "      <td>07/07/2020</td>\n",
       "      <td>NaN</td>\n",
       "      <td>NaN</td>\n",
       "      <td>NaN</td>\n",
       "      <td>NaN</td>\n",
       "      <td>Sikkim</td>\n",
       "      <td>Recovered</td>\n",
       "      <td>7</td>\n",
       "      <td>7</td>\n",
       "      <td>2020</td>\n",
       "    </tr>\n",
       "    <tr>\n",
       "      <th>145846</th>\n",
       "      <td>22792</td>\n",
       "      <td>-6.0</td>\n",
       "      <td>07/07/2020</td>\n",
       "      <td>NaN</td>\n",
       "      <td>NaN</td>\n",
       "      <td>NaN</td>\n",
       "      <td>NaN</td>\n",
       "      <td>Sikkim</td>\n",
       "      <td>Recovered</td>\n",
       "      <td>7</td>\n",
       "      <td>7</td>\n",
       "      <td>2020</td>\n",
       "    </tr>\n",
       "    <tr>\n",
       "      <th>145847</th>\n",
       "      <td>22793</td>\n",
       "      <td>-1.0</td>\n",
       "      <td>07/07/2020</td>\n",
       "      <td>NaN</td>\n",
       "      <td>NaN</td>\n",
       "      <td>NaN</td>\n",
       "      <td>Kozhikode</td>\n",
       "      <td>Kerala</td>\n",
       "      <td>Recovered</td>\n",
       "      <td>7</td>\n",
       "      <td>7</td>\n",
       "      <td>2020</td>\n",
       "    </tr>\n",
       "    <tr>\n",
       "      <th>145848</th>\n",
       "      <td>22794</td>\n",
       "      <td>1.0</td>\n",
       "      <td>07/07/2020</td>\n",
       "      <td>NaN</td>\n",
       "      <td>NaN</td>\n",
       "      <td>NaN</td>\n",
       "      <td>Wayanad</td>\n",
       "      <td>Kerala</td>\n",
       "      <td>Recovered</td>\n",
       "      <td>7</td>\n",
       "      <td>7</td>\n",
       "      <td>2020</td>\n",
       "    </tr>\n",
       "  </tbody>\n",
       "</table>\n",
       "<p>145849 rows × 12 columns</p>\n",
       "</div>"
      ],
      "text/plain": [
       "        Unnamed: 0  Num Cases Date Announced Age Bracket Gender  \\\n",
       "0                0        1.0     30/01/2020          20      F   \n",
       "1                1        1.0     02/02/2020         NaN    NaN   \n",
       "2                2        1.0     03/02/2020         NaN    NaN   \n",
       "3                3        1.0     02/03/2020          45      M   \n",
       "4                4        1.0     02/03/2020          24      M   \n",
       "...            ...        ...            ...         ...    ...   \n",
       "145844       22790        2.0     07/07/2020         NaN    NaN   \n",
       "145845       22791       -9.0     07/07/2020         NaN    NaN   \n",
       "145846       22792       -6.0     07/07/2020         NaN    NaN   \n",
       "145847       22793       -1.0     07/07/2020         NaN    NaN   \n",
       "145848       22794        1.0     07/07/2020         NaN    NaN   \n",
       "\n",
       "                   Detected City       Detected District  \\\n",
       "0                       Thrissur                Thrissur   \n",
       "1                      Alappuzha               Alappuzha   \n",
       "2                      Kasaragod               Kasaragod   \n",
       "3       East Delhi (Mayur Vihar)              East Delhi   \n",
       "4                      Hyderabad               Hyderabad   \n",
       "...                          ...                     ...   \n",
       "145844                       NaN  Dadra and Nagar Haveli   \n",
       "145845                       NaN                     NaN   \n",
       "145846                       NaN                     NaN   \n",
       "145847                       NaN               Kozhikode   \n",
       "145848                       NaN                 Wayanad   \n",
       "\n",
       "                                  Detected State Current Status  Day  Month  \\\n",
       "0                                         Kerala      Recovered   30      1   \n",
       "1                                         Kerala      Recovered    2      2   \n",
       "2                                         Kerala      Recovered    3      2   \n",
       "3                                          Delhi      Recovered    2      3   \n",
       "4                                      Telangana      Recovered    2      3   \n",
       "...                                          ...            ...  ...    ...   \n",
       "145844  Dadra and Nagar Haveli and Daman and Diu   Hospitalized    7      7   \n",
       "145845                                    Sikkim      Recovered    7      7   \n",
       "145846                                    Sikkim      Recovered    7      7   \n",
       "145847                                    Kerala      Recovered    7      7   \n",
       "145848                                    Kerala      Recovered    7      7   \n",
       "\n",
       "        Year  \n",
       "0       2020  \n",
       "1       2020  \n",
       "2       2020  \n",
       "3       2020  \n",
       "4       2020  \n",
       "...      ...  \n",
       "145844  2020  \n",
       "145845  2020  \n",
       "145846  2020  \n",
       "145847  2020  \n",
       "145848  2020  \n",
       "\n",
       "[145849 rows x 12 columns]"
      ]
     },
     "execution_count": 4,
     "metadata": {},
     "output_type": "execute_result"
    }
   ],
   "source": [
    "df=pd.read_csv('Covid19Indiafinal.csv')\n",
    "df"
   ]
  },
  {
   "cell_type": "code",
   "execution_count": 5,
   "metadata": {},
   "outputs": [
    {
     "data": {
      "text/html": [
       "<div>\n",
       "<style scoped>\n",
       "    .dataframe tbody tr th:only-of-type {\n",
       "        vertical-align: middle;\n",
       "    }\n",
       "\n",
       "    .dataframe tbody tr th {\n",
       "        vertical-align: top;\n",
       "    }\n",
       "\n",
       "    .dataframe thead th {\n",
       "        text-align: right;\n",
       "    }\n",
       "</style>\n",
       "<table border=\"1\" class=\"dataframe\">\n",
       "  <thead>\n",
       "    <tr style=\"text-align: right;\">\n",
       "      <th></th>\n",
       "      <th>Num Cases</th>\n",
       "      <th>Date Announced</th>\n",
       "      <th>Age Bracket</th>\n",
       "      <th>Gender</th>\n",
       "      <th>Detected City</th>\n",
       "      <th>Detected District</th>\n",
       "      <th>Detected State</th>\n",
       "      <th>Current Status</th>\n",
       "      <th>Day</th>\n",
       "      <th>Month</th>\n",
       "      <th>Year</th>\n",
       "    </tr>\n",
       "  </thead>\n",
       "  <tbody>\n",
       "    <tr>\n",
       "      <th>0</th>\n",
       "      <td>1.0</td>\n",
       "      <td>30/01/2020</td>\n",
       "      <td>20</td>\n",
       "      <td>F</td>\n",
       "      <td>Thrissur</td>\n",
       "      <td>Thrissur</td>\n",
       "      <td>Kerala</td>\n",
       "      <td>Recovered</td>\n",
       "      <td>30</td>\n",
       "      <td>1</td>\n",
       "      <td>2020</td>\n",
       "    </tr>\n",
       "    <tr>\n",
       "      <th>1</th>\n",
       "      <td>1.0</td>\n",
       "      <td>02/02/2020</td>\n",
       "      <td>NaN</td>\n",
       "      <td>NaN</td>\n",
       "      <td>Alappuzha</td>\n",
       "      <td>Alappuzha</td>\n",
       "      <td>Kerala</td>\n",
       "      <td>Recovered</td>\n",
       "      <td>2</td>\n",
       "      <td>2</td>\n",
       "      <td>2020</td>\n",
       "    </tr>\n",
       "    <tr>\n",
       "      <th>2</th>\n",
       "      <td>1.0</td>\n",
       "      <td>03/02/2020</td>\n",
       "      <td>NaN</td>\n",
       "      <td>NaN</td>\n",
       "      <td>Kasaragod</td>\n",
       "      <td>Kasaragod</td>\n",
       "      <td>Kerala</td>\n",
       "      <td>Recovered</td>\n",
       "      <td>3</td>\n",
       "      <td>2</td>\n",
       "      <td>2020</td>\n",
       "    </tr>\n",
       "    <tr>\n",
       "      <th>3</th>\n",
       "      <td>1.0</td>\n",
       "      <td>02/03/2020</td>\n",
       "      <td>45</td>\n",
       "      <td>M</td>\n",
       "      <td>East Delhi (Mayur Vihar)</td>\n",
       "      <td>East Delhi</td>\n",
       "      <td>Delhi</td>\n",
       "      <td>Recovered</td>\n",
       "      <td>2</td>\n",
       "      <td>3</td>\n",
       "      <td>2020</td>\n",
       "    </tr>\n",
       "    <tr>\n",
       "      <th>4</th>\n",
       "      <td>1.0</td>\n",
       "      <td>02/03/2020</td>\n",
       "      <td>24</td>\n",
       "      <td>M</td>\n",
       "      <td>Hyderabad</td>\n",
       "      <td>Hyderabad</td>\n",
       "      <td>Telangana</td>\n",
       "      <td>Recovered</td>\n",
       "      <td>2</td>\n",
       "      <td>3</td>\n",
       "      <td>2020</td>\n",
       "    </tr>\n",
       "    <tr>\n",
       "      <th>...</th>\n",
       "      <td>...</td>\n",
       "      <td>...</td>\n",
       "      <td>...</td>\n",
       "      <td>...</td>\n",
       "      <td>...</td>\n",
       "      <td>...</td>\n",
       "      <td>...</td>\n",
       "      <td>...</td>\n",
       "      <td>...</td>\n",
       "      <td>...</td>\n",
       "      <td>...</td>\n",
       "    </tr>\n",
       "    <tr>\n",
       "      <th>145844</th>\n",
       "      <td>2.0</td>\n",
       "      <td>07/07/2020</td>\n",
       "      <td>NaN</td>\n",
       "      <td>NaN</td>\n",
       "      <td>NaN</td>\n",
       "      <td>Dadra and Nagar Haveli</td>\n",
       "      <td>Dadra and Nagar Haveli and Daman and Diu</td>\n",
       "      <td>Hospitalized</td>\n",
       "      <td>7</td>\n",
       "      <td>7</td>\n",
       "      <td>2020</td>\n",
       "    </tr>\n",
       "    <tr>\n",
       "      <th>145845</th>\n",
       "      <td>-9.0</td>\n",
       "      <td>07/07/2020</td>\n",
       "      <td>NaN</td>\n",
       "      <td>NaN</td>\n",
       "      <td>NaN</td>\n",
       "      <td>NaN</td>\n",
       "      <td>Sikkim</td>\n",
       "      <td>Recovered</td>\n",
       "      <td>7</td>\n",
       "      <td>7</td>\n",
       "      <td>2020</td>\n",
       "    </tr>\n",
       "    <tr>\n",
       "      <th>145846</th>\n",
       "      <td>-6.0</td>\n",
       "      <td>07/07/2020</td>\n",
       "      <td>NaN</td>\n",
       "      <td>NaN</td>\n",
       "      <td>NaN</td>\n",
       "      <td>NaN</td>\n",
       "      <td>Sikkim</td>\n",
       "      <td>Recovered</td>\n",
       "      <td>7</td>\n",
       "      <td>7</td>\n",
       "      <td>2020</td>\n",
       "    </tr>\n",
       "    <tr>\n",
       "      <th>145847</th>\n",
       "      <td>-1.0</td>\n",
       "      <td>07/07/2020</td>\n",
       "      <td>NaN</td>\n",
       "      <td>NaN</td>\n",
       "      <td>NaN</td>\n",
       "      <td>Kozhikode</td>\n",
       "      <td>Kerala</td>\n",
       "      <td>Recovered</td>\n",
       "      <td>7</td>\n",
       "      <td>7</td>\n",
       "      <td>2020</td>\n",
       "    </tr>\n",
       "    <tr>\n",
       "      <th>145848</th>\n",
       "      <td>1.0</td>\n",
       "      <td>07/07/2020</td>\n",
       "      <td>NaN</td>\n",
       "      <td>NaN</td>\n",
       "      <td>NaN</td>\n",
       "      <td>Wayanad</td>\n",
       "      <td>Kerala</td>\n",
       "      <td>Recovered</td>\n",
       "      <td>7</td>\n",
       "      <td>7</td>\n",
       "      <td>2020</td>\n",
       "    </tr>\n",
       "  </tbody>\n",
       "</table>\n",
       "<p>145849 rows × 11 columns</p>\n",
       "</div>"
      ],
      "text/plain": [
       "        Num Cases Date Announced Age Bracket Gender             Detected City  \\\n",
       "0             1.0     30/01/2020          20      F                  Thrissur   \n",
       "1             1.0     02/02/2020         NaN    NaN                 Alappuzha   \n",
       "2             1.0     03/02/2020         NaN    NaN                 Kasaragod   \n",
       "3             1.0     02/03/2020          45      M  East Delhi (Mayur Vihar)   \n",
       "4             1.0     02/03/2020          24      M                 Hyderabad   \n",
       "...           ...            ...         ...    ...                       ...   \n",
       "145844        2.0     07/07/2020         NaN    NaN                       NaN   \n",
       "145845       -9.0     07/07/2020         NaN    NaN                       NaN   \n",
       "145846       -6.0     07/07/2020         NaN    NaN                       NaN   \n",
       "145847       -1.0     07/07/2020         NaN    NaN                       NaN   \n",
       "145848        1.0     07/07/2020         NaN    NaN                       NaN   \n",
       "\n",
       "             Detected District                            Detected State  \\\n",
       "0                     Thrissur                                    Kerala   \n",
       "1                    Alappuzha                                    Kerala   \n",
       "2                    Kasaragod                                    Kerala   \n",
       "3                   East Delhi                                     Delhi   \n",
       "4                    Hyderabad                                 Telangana   \n",
       "...                        ...                                       ...   \n",
       "145844  Dadra and Nagar Haveli  Dadra and Nagar Haveli and Daman and Diu   \n",
       "145845                     NaN                                    Sikkim   \n",
       "145846                     NaN                                    Sikkim   \n",
       "145847               Kozhikode                                    Kerala   \n",
       "145848                 Wayanad                                    Kerala   \n",
       "\n",
       "       Current Status  Day  Month  Year  \n",
       "0           Recovered   30      1  2020  \n",
       "1           Recovered    2      2  2020  \n",
       "2           Recovered    3      2  2020  \n",
       "3           Recovered    2      3  2020  \n",
       "4           Recovered    2      3  2020  \n",
       "...               ...  ...    ...   ...  \n",
       "145844   Hospitalized    7      7  2020  \n",
       "145845      Recovered    7      7  2020  \n",
       "145846      Recovered    7      7  2020  \n",
       "145847      Recovered    7      7  2020  \n",
       "145848      Recovered    7      7  2020  \n",
       "\n",
       "[145849 rows x 11 columns]"
      ]
     },
     "execution_count": 5,
     "metadata": {},
     "output_type": "execute_result"
    }
   ],
   "source": [
    "data=df.iloc[:,1:]\n",
    "data"
   ]
  },
  {
   "cell_type": "code",
   "execution_count": 6,
   "metadata": {},
   "outputs": [],
   "source": [
    "##Inspect data\n"
   ]
  },
  {
   "cell_type": "code",
   "execution_count": 7,
   "metadata": {},
   "outputs": [
    {
     "name": "stdout",
     "output_type": "stream",
     "text": [
      "<class 'pandas.core.frame.DataFrame'>\n",
      "RangeIndex: 145849 entries, 0 to 145848\n",
      "Data columns (total 11 columns):\n",
      " #   Column             Non-Null Count   Dtype  \n",
      "---  ------             --------------   -----  \n",
      " 0   Num Cases          145846 non-null  float64\n",
      " 1   Date Announced     145849 non-null  object \n",
      " 2   Age Bracket        60013 non-null   object \n",
      " 3   Gender             62808 non-null   object \n",
      " 4   Detected City      10949 non-null   object \n",
      " 5   Detected District  137451 non-null  object \n",
      " 6   Detected State     145840 non-null  object \n",
      " 7   Current Status     145847 non-null  object \n",
      " 8   Day                145849 non-null  int64  \n",
      " 9   Month              145849 non-null  int64  \n",
      " 10  Year               145849 non-null  int64  \n",
      "dtypes: float64(1), int64(3), object(7)\n",
      "memory usage: 12.2+ MB\n"
     ]
    }
   ],
   "source": [
    "data.info()"
   ]
  },
  {
   "cell_type": "code",
   "execution_count": 8,
   "metadata": {},
   "outputs": [],
   "source": [
    "#Inspect Null Values in each Column"
   ]
  },
  {
   "cell_type": "code",
   "execution_count": 9,
   "metadata": {},
   "outputs": [
    {
     "data": {
      "text/plain": [
       "Date Announced            0\n",
       "Day                       0\n",
       "Month                     0\n",
       "Year                      0\n",
       "Current Status            2\n",
       "Num Cases                 3\n",
       "Detected State            9\n",
       "Detected District      8398\n",
       "Gender                83041\n",
       "Age Bracket           85836\n",
       "Detected City        134900\n",
       "dtype: int64"
      ]
     },
     "execution_count": 9,
     "metadata": {},
     "output_type": "execute_result"
    }
   ],
   "source": [
    "data.isnull().sum(axis=0).sort_values()"
   ]
  },
  {
   "cell_type": "code",
   "execution_count": 10,
   "metadata": {},
   "outputs": [
    {
     "data": {
      "text/plain": [
       "Detected City        92.492921\n",
       "Age Bracket          58.852649\n",
       "Gender               56.936283\n",
       "Detected District     5.758010\n",
       "Detected State        0.006171\n",
       "Num Cases             0.002057\n",
       "Current Status        0.001371\n",
       "Year                  0.000000\n",
       "Month                 0.000000\n",
       "Day                   0.000000\n",
       "Date Announced        0.000000\n",
       "dtype: float64"
      ]
     },
     "execution_count": 10,
     "metadata": {},
     "output_type": "execute_result"
    }
   ],
   "source": [
    "data.isnull().sum(axis=0).sort_values(ascending=False)/len(data)*100 #gives the percentage of values that are  missing"
   ]
  },
  {
   "cell_type": "code",
   "execution_count": 11,
   "metadata": {},
   "outputs": [],
   "source": [
    "#round(val,2)"
   ]
  },
  {
   "cell_type": "code",
   "execution_count": 12,
   "metadata": {},
   "outputs": [],
   "source": [
    "##Inspect Null Values in each Row"
   ]
  },
  {
   "cell_type": "code",
   "execution_count": 13,
   "metadata": {},
   "outputs": [
    {
     "data": {
      "text/plain": [
       "28451     6\n",
       "69009     6\n",
       "69008     6\n",
       "4375      5\n",
       "28398     5\n",
       "         ..\n",
       "108695    0\n",
       "108694    0\n",
       "108693    0\n",
       "108692    0\n",
       "0         0\n",
       "Length: 145849, dtype: int64"
      ]
     },
     "execution_count": 13,
     "metadata": {},
     "output_type": "execute_result"
    }
   ],
   "source": [
    "data.isnull().sum(axis=1).sort_values(ascending=False)"
   ]
  },
  {
   "cell_type": "code",
   "execution_count": 14,
   "metadata": {},
   "outputs": [],
   "source": [
    "##Total Covid-19 cases month wise"
   ]
  },
  {
   "cell_type": "code",
   "execution_count": 15,
   "metadata": {},
   "outputs": [
    {
     "data": {
      "text/plain": [
       "Month\n",
       "1         1.0\n",
       "2         2.0\n",
       "3      1635.0\n",
       "4     36078.0\n",
       "5    242853.0\n",
       "6    663178.0\n",
       "7    270185.0\n",
       "Name: Num Cases, dtype: float64"
      ]
     },
     "execution_count": 15,
     "metadata": {},
     "output_type": "execute_result"
    }
   ],
   "source": [
    "data.groupby('Month')['Num Cases'].sum()"
   ]
  },
  {
   "cell_type": "code",
   "execution_count": 16,
   "metadata": {},
   "outputs": [
    {
     "data": {
      "text/plain": [
       "0         False\n",
       "1         False\n",
       "2         False\n",
       "3         False\n",
       "4         False\n",
       "          ...  \n",
       "145844     True\n",
       "145845    False\n",
       "145846    False\n",
       "145847    False\n",
       "145848    False\n",
       "Name: Current Status, Length: 145849, dtype: bool"
      ]
     },
     "execution_count": 16,
     "metadata": {},
     "output_type": "execute_result"
    }
   ],
   "source": [
    "data['Current Status']=='Hospitalized'"
   ]
  },
  {
   "cell_type": "code",
   "execution_count": 18,
   "metadata": {},
   "outputs": [
    {
     "data": {
      "text/plain": [
       "Month\n",
       "3      1431.0\n",
       "4     33209.0\n",
       "5    155781.0\n",
       "6    395144.0\n",
       "7    157701.0\n",
       "Name: Num Cases, dtype: float64"
      ]
     },
     "execution_count": 18,
     "metadata": {},
     "output_type": "execute_result"
    }
   ],
   "source": [
    "data[data['Current Status']=='Hospitalized'].groupby('Month')['Num Cases'].sum()"
   ]
  },
  {
   "cell_type": "code",
   "execution_count": 19,
   "metadata": {},
   "outputs": [],
   "source": [
    "#"
   ]
  },
  {
   "cell_type": "code",
   "execution_count": 20,
   "metadata": {},
   "outputs": [
    {
     "data": {
      "image/png": "[encoded data removed]",
      "text/plain": [
       "<Figure size 432x288 with 1 Axes>"
      ]
     },
     "metadata": {
      "needs_background": "light"
     },
     "output_type": "display_data"
    }
   ],
   "source": [
    "M=data[data['Current Status']=='Hospitalized'].groupby('Month')['Num Cases'].sum()\n",
    "M.plot.bar()\n",
    "plt.show()"
   ]
  },
  {
   "cell_type": "code",
   "execution_count": 21,
   "metadata": {},
   "outputs": [],
   "source": [
    "##Total Male/Female infected with coronavirus"
   ]
  },
  {
   "cell_type": "code",
   "execution_count": 22,
   "metadata": {},
   "outputs": [
    {
     "data": {
      "text/plain": [
       "Gender\n",
       "F             21294.0\n",
       "M             42795.0\n",
       "M                 1.0\n",
       "Non-Binary       12.0\n",
       "Name: Num Cases, dtype: float64"
      ]
     },
     "execution_count": 22,
     "metadata": {},
     "output_type": "execute_result"
    }
   ],
   "source": [
    "data.groupby('Gender')['Num Cases'].sum()"
   ]
  },
  {
   "cell_type": "code",
   "execution_count": 23,
   "metadata": {},
   "outputs": [],
   "source": [
    "#50% male are infected"
   ]
  },
  {
   "cell_type": "code",
   "execution_count": 24,
   "metadata": {},
   "outputs": [],
   "source": [
    "##Which age group is infected the most?\n"
   ]
  },
  {
   "cell_type": "code",
   "execution_count": 25,
   "metadata": {},
   "outputs": [
    {
     "data": {
      "text/plain": [
       "Age Bracket\n",
       "0.1      3.0\n",
       "0.6      1.0\n",
       "0.9      3.0\n",
       "1.0     20.0\n",
       "1.5      1.0\n",
       "        ... \n",
       "97       1.0\n",
       "97.0     1.0\n",
       "98.0     2.0\n",
       "99       2.0\n",
       "99.0     1.0\n",
       "Name: Num Cases, Length: 325, dtype: float64"
      ]
     },
     "execution_count": 25,
     "metadata": {},
     "output_type": "execute_result"
    }
   ],
   "source": [
    "data.groupby('Age Bracket')['Num Cases'].sum()"
   ]
  },
  {
   "cell_type": "code",
   "execution_count": 26,
   "metadata": {},
   "outputs": [
    {
     "data": {
      "text/plain": [
       "Age Bracket\n",
       "30.0        1209.0\n",
       "40.0        1027.0\n",
       "25.0        1015.0\n",
       "35.0         992.0\n",
       "32.0         936.0\n",
       "             ...  \n",
       "1.6            1.0\n",
       "29.6           1.0\n",
       "5 Months       1.0\n",
       "54.9           1.0\n",
       "99.0           1.0\n",
       "Name: Num Cases, Length: 325, dtype: float64"
      ]
     },
     "execution_count": 26,
     "metadata": {},
     "output_type": "execute_result"
    }
   ],
   "source": [
    "data.groupby('Age Bracket')['Num Cases'].sum().sort_values(ascending=False)"
   ]
  },
  {
   "cell_type": "code",
   "execution_count": 27,
   "metadata": {},
   "outputs": [],
   "source": [
    "#if age is between 30 and 40 max chances of corona"
   ]
  },
  {
   "cell_type": "code",
   "execution_count": 28,
   "metadata": {},
   "outputs": [
    {
     "data": {
      "text/plain": [
       "Age Bracket\n",
       "30.0    1209.0\n",
       "40.0    1027.0\n",
       "25.0    1015.0\n",
       "35.0     992.0\n",
       "32.0     936.0\n",
       "45.0     893.0\n",
       "24.0     880.0\n",
       "28.0     858.0\n",
       "27.0     818.0\n",
       "26.0     810.0\n",
       "Name: Num Cases, dtype: float64"
      ]
     },
     "execution_count": 28,
     "metadata": {},
     "output_type": "execute_result"
    }
   ],
   "source": [
    "M=data.groupby('Age Bracket')['Num Cases'].sum().sort_values(ascending=False).head(10)\n",
    "M"
   ]
  },
  {
   "cell_type": "code",
   "execution_count": 29,
   "metadata": {},
   "outputs": [
    {
     "data": {
      "image/png": "[encoded data removed]",
      "text/plain": [
       "<Figure size 432x288 with 1 Axes>"
      ]
     },
     "metadata": {
      "needs_background": "light"
     },
     "output_type": "display_data"
    }
   ],
   "source": [
    "M.plot.bar()\n",
    "plt.show()"
   ]
  },
  {
   "cell_type": "code",
   "execution_count": 30,
   "metadata": {},
   "outputs": [],
   "source": [
    "##Check state wise Total Cases in India"
   ]
  },
  {
   "cell_type": "code",
   "execution_count": 31,
   "metadata": {},
   "outputs": [
    {
     "data": {
      "text/plain": [
       "Detected State\n",
       "Andaman and Nicobar Islands                    136.0\n",
       "Andhra Pradesh                               21195.0\n",
       "Arunachal Pradesh                              276.0\n",
       "Assam                                        13337.0\n",
       "Bihar                                        12524.0\n",
       "Chandigarh                                     492.0\n",
       "Chhattisgarh                                  3407.0\n",
       "Dadra and Nagar Haveli and Daman and Diu       427.0\n",
       "Delhi                                       102827.0\n",
       "Goa                                           1903.0\n",
       "Gujarat                                      37631.0\n",
       "Haryana                                      17987.0\n",
       "Himachal Pradesh                              1081.0\n",
       "Jammu and Kashmir                             8930.0\n",
       "Jharkhand                                     3018.0\n",
       "Karnataka                                    26743.0\n",
       "Kerala                                        5834.0\n",
       "Ladakh                                        1041.0\n",
       "Madhya Pradesh                               15625.0\n",
       "Maharashtra                                 217107.0\n",
       "Manipur                                       1429.0\n",
       "Meghalaya                                       94.0\n",
       "Mizoram                                        198.0\n",
       "Nagaland                                       644.0\n",
       "Odisha                                       10096.0\n",
       "Puducherry                                    1043.0\n",
       "Punjab                                        6747.0\n",
       "Rajasthan                                    21400.0\n",
       "Sikkim                                         127.0\n",
       "State Unassigned                              5034.0\n",
       "Tamil Nadu                                  118587.0\n",
       "Telangana                                    27610.0\n",
       "Tripura                                       1716.0\n",
       "Uttar Pradesh                                29959.0\n",
       "Uttarakhand                                   3229.0\n",
       "West Bengal                                  23831.0\n",
       "Name: Num Cases, dtype: float64"
      ]
     },
     "execution_count": 31,
     "metadata": {},
     "output_type": "execute_result"
    }
   ],
   "source": [
    "data[data['Current Status']=='Hospitalized'].groupby('Detected State')['Num Cases'].sum()\n"
   ]
  },
  {
   "cell_type": "code",
   "execution_count": 32,
   "metadata": {},
   "outputs": [
    {
     "data": {
      "text/plain": [
       "Detected State\n",
       "Maharashtra                                 217107.0\n",
       "Tamil Nadu                                  118587.0\n",
       "Delhi                                       102827.0\n",
       "Gujarat                                      37631.0\n",
       "Uttar Pradesh                                29959.0\n",
       "Telangana                                    27610.0\n",
       "Karnataka                                    26743.0\n",
       "West Bengal                                  23831.0\n",
       "Rajasthan                                    21400.0\n",
       "Andhra Pradesh                               21195.0\n",
       "Haryana                                      17987.0\n",
       "Madhya Pradesh                               15625.0\n",
       "Assam                                        13337.0\n",
       "Bihar                                        12524.0\n",
       "Odisha                                       10096.0\n",
       "Jammu and Kashmir                             8930.0\n",
       "Punjab                                        6747.0\n",
       "Kerala                                        5834.0\n",
       "State Unassigned                              5034.0\n",
       "Chhattisgarh                                  3407.0\n",
       "Uttarakhand                                   3229.0\n",
       "Jharkhand                                     3018.0\n",
       "Goa                                           1903.0\n",
       "Tripura                                       1716.0\n",
       "Manipur                                       1429.0\n",
       "Himachal Pradesh                              1081.0\n",
       "Puducherry                                    1043.0\n",
       "Ladakh                                        1041.0\n",
       "Nagaland                                       644.0\n",
       "Chandigarh                                     492.0\n",
       "Dadra and Nagar Haveli and Daman and Diu       427.0\n",
       "Arunachal Pradesh                              276.0\n",
       "Mizoram                                        198.0\n",
       "Andaman and Nicobar Islands                    136.0\n",
       "Sikkim                                         127.0\n",
       "Meghalaya                                       94.0\n",
       "Name: Num Cases, dtype: float64"
      ]
     },
     "execution_count": 32,
     "metadata": {},
     "output_type": "execute_result"
    }
   ],
   "source": [
    "M=data[data['Current Status']=='Hospitalized'].groupby('Detected State')['Num Cases'].sum().sort_values(ascending=False)\n",
    "M"
   ]
  },
  {
   "cell_type": "code",
   "execution_count": 33,
   "metadata": {},
   "outputs": [
    {
     "data": {
      "image/png": "[encoded data removed]",
      "text/plain": [
       "<Figure size 1080x360 with 1 Axes>"
      ]
     },
     "metadata": {
      "needs_background": "light"
     },
     "output_type": "display_data"
    }
   ],
   "source": [
    "M.plot.bar(figsize=(15,5))\n",
    "plt.show()"
   ]
  },
  {
   "cell_type": "code",
   "execution_count": 34,
   "metadata": {},
   "outputs": [],
   "source": [
    "#verifyed from map on site"
   ]
  },
  {
   "cell_type": "code",
   "execution_count": 35,
   "metadata": {},
   "outputs": [],
   "source": [
    "##Cases each day"
   ]
  },
  {
   "cell_type": "code",
   "execution_count": 36,
   "metadata": {},
   "outputs": [
    {
     "data": {
      "text/plain": [
       "Month  Day\n",
       "3      4          5.0\n",
       "       5          1.0\n",
       "       7          2.0\n",
       "       9          4.0\n",
       "       10         4.0\n",
       "               ...   \n",
       "7      3      22718.0\n",
       "       4      24018.0\n",
       "       5      23942.0\n",
       "       6      22500.0\n",
       "       7      23147.0\n",
       "Name: Num Cases, Length: 124, dtype: float64"
      ]
     },
     "execution_count": 36,
     "metadata": {},
     "output_type": "execute_result"
    }
   ],
   "source": [
    "Day=data[data['Current Status']=='Hospitalized'].groupby(['Month','Day'])['Num Cases'].sum()\n",
    "Day"
   ]
  },
  {
   "cell_type": "code",
   "execution_count": 42,
   "metadata": {},
   "outputs": [
    {
     "data": {
      "image/png": "[encoded data removed]",
      "text/plain": [
       "<Figure size 864x648 with 5 Axes>"
      ]
     },
     "metadata": {
      "needs_background": "light"
     },
     "output_type": "display_data"
    }
   ],
   "source": [
    "Day.unstack(level=0).plot(kind='bar',subplots=True,figsize=(12,9))\n",
    "plt.show()"
   ]
  },
  {
   "cell_type": "code",
   "execution_count": 38,
   "metadata": {},
   "outputs": [
    {
     "data": {
      "text/plain": [
       "array(['Recovered', 'Hospitalized', 'Deceased', 'Migrated',\n",
       "       'Migrated_Other', nan, 'Migrated_other'], dtype=object)"
      ]
     },
     "execution_count": 38,
     "metadata": {},
     "output_type": "execute_result"
    }
   ],
   "source": [
    "data['Current Status'].unique()"
   ]
  },
  {
   "cell_type": "code",
   "execution_count": 51,
   "metadata": {},
   "outputs": [
    {
     "data": {
      "text/plain": [
       "19817.0"
      ]
     },
     "execution_count": 51,
     "metadata": {},
     "output_type": "execute_result"
    }
   ],
   "source": [
    "data[data['Current Status']=='Deceased']['Num Cases'].sum()"
   ]
  },
  {
   "cell_type": "code",
   "execution_count": 48,
   "metadata": {},
   "outputs": [
    {
     "data": {
      "text/plain": [
       "Detected State\n",
       "Maharashtra                                 8919.0\n",
       "Delhi                                       3112.0\n",
       "Gujarat                                     1831.0\n",
       "Tamil Nadu                                  1613.0\n",
       "Uttar Pradesh                                798.0\n",
       "West Bengal                                  787.0\n",
       "Madhya Pradesh                               521.0\n",
       "Rajasthan                                    432.0\n",
       "Karnataka                                    409.0\n",
       "Telangana                                    289.0\n",
       "Haryana                                      276.0\n",
       "Andhra Pradesh                               221.0\n",
       "Punjab                                       159.0\n",
       "Jammu and Kashmir                            138.0\n",
       "Bihar                                         97.0\n",
       "Odisha                                        54.0\n",
       "Uttarakhand                                   43.0\n",
       "Kerala                                        27.0\n",
       "Jharkhand                                     19.0\n",
       "Assam                                         15.0\n",
       "Chhattisgarh                                  14.0\n",
       "Puducherry                                    14.0\n",
       "Himachal Pradesh                               9.0\n",
       "Goa                                            8.0\n",
       "Chandigarh                                     7.0\n",
       "Arunachal Pradesh                              2.0\n",
       "Dadra and Nagar Haveli and Daman and Diu       1.0\n",
       "Tripura                                        1.0\n",
       "Ladakh                                         1.0\n",
       "Name: Num Cases, dtype: float64"
      ]
     },
     "execution_count": 48,
     "metadata": {},
     "output_type": "execute_result"
    }
   ],
   "source": [
    "df_new = data[data['Current Status']=='Deceased'].groupby('Detected State')['Num Cases'].sum().sort_values(ascending=False)\n",
    "df_new.column = ['Deceased']\n",
    "df_new\n"
   ]
  },
  {
   "cell_type": "code",
   "execution_count": 52,
   "metadata": {},
   "outputs": [
    {
     "data": {
      "image/png": "[encoded data removed]",
      "text/plain": [
       "<Figure size 864x360 with 1 Axes>"
      ]
     },
     "metadata": {
      "needs_background": "light"
     },
     "output_type": "display_data"
    }
   ],
   "source": [
    "df_new.plot(kind='bar',subplots=True,figsize=(12,5))\n",
    "plt.show()"
   ]
  },
  {
   "cell_type": "code",
   "execution_count": null,
   "metadata": {},
   "outputs": [],
   "source": []
  }
 ],
 "metadata": {
  "kernelspec": {
   "display_name": "Python 3",
   "language": "python",
   "name": "python3"
  },
  "language_info": {
   "codemirror_mode": {
    "name": "ipython",
    "version": 3
   },
   "file_extension": ".py",
   "mimetype": "text/x-python",
   "name": "python",
   "nbconvert_exporter": "python",
   "pygments_lexer": "ipython3",
   "version": "3.8.3"
  }
 },
 "nbformat": 4,
 "nbformat_minor": 4
}
